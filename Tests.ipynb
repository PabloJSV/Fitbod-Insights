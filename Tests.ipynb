{
 "cells": [
  {
   "cell_type": "code",
   "execution_count": 93,
   "metadata": {},
   "outputs": [
    {
     "name": "stdout",
     "output_type": "stream",
     "text": [
      "You have been most active in the Morning , doing 61.09 % of your workouts\n"
     ]
    }
   ],
   "source": [
    "# let's load WorkoutExport.csv as a Pandas dataframe\n",
    "import pandas as pd\n",
    "df = pd.read_csv('WorkoutExport.csv')\n",
    "df.head()\n",
    "# split date between date and time\n",
    "df['Date', 'Time'] = df['Date'].str.split(' ', expand=True)[1]\n",
    "df['YYYY/MM/DD'] = df['Date'].str.split(' ', expand=True)[0]\n",
    "df['Time'] = df['Date'].str.split(' ', expand=True)[1]\n",
    "df.head()\n",
    "\n",
    "#TODO: group Time by early morning, morning, afternoon, evening, night\n",
    "# Group by Time if time is between 12am and 5am, then it's early morning\n",
    "df['Hour'] = pd.to_datetime(df['Time'], format='%H:%M:%S').dt.hour\n",
    "df['TimeOfDay'] = df['Hour'].apply(lambda x: 'Early Morning' if x >= 0 and x < 6 else 'Morning' if x >= 6 and x < 12 else 'Afternoon' if x >= 12 and x < 17 else \n",
    "'Evening' if x >= 17 and x < 21 else 'Night' if x >= 21 and x < 24 else None)\n",
    "df.head()\n",
    "#TODO: Offer insights about times of day that are most effective for each exercise\n",
    "\n",
    "# Count different values in TimeOfDay column\n",
    "df['TimeOfDay'].value_counts(1)\n",
    "# get maximum value in TimeOfDay first column\n",
    "df['TimeOfDay'].value_counts(1).idxmax()\n",
    "df['TimeOfDay'].value_counts(1).max()\n",
    "\n",
    "print('You have been most active in the',df['TimeOfDay'].value_counts(1).idxmax(), ', doing',round((df['TimeOfDay'].value_counts(1).max() * 100), 2), '% of your workouts')\n",
    "\n"
   ]
  }
 ],
 "metadata": {
  "kernelspec": {
   "display_name": "Python 3.10.6 64-bit",
   "language": "python",
   "name": "python3"
  },
  "language_info": {
   "codemirror_mode": {
    "name": "ipython",
    "version": 3
   },
   "file_extension": ".py",
   "mimetype": "text/x-python",
   "name": "python",
   "nbconvert_exporter": "python",
   "pygments_lexer": "ipython3",
   "version": "3.10.6"
  },
  "orig_nbformat": 4,
  "vscode": {
   "interpreter": {
    "hash": "bb63a77499ed5899fffa71b49f0fc3f4df2c625891c3993c985b13a523c87e61"
   }
  }
 },
 "nbformat": 4,
 "nbformat_minor": 2
}

{
 "cells": [
  {
   "cell_type": "code",
   "execution_count": 42,
   "metadata": {},
   "outputs": [
    {
     "ename": "SyntaxError",
     "evalue": "expected 'else' after 'if' expression (1475795467.py, line 14)",
     "output_type": "error",
     "traceback": [
      "\u001b[1;36m  Cell \u001b[1;32mIn [42], line 14\u001b[1;36m\u001b[0m\n\u001b[1;33m    df['TimeOfDay'] = df['Hour'].apply(lambda x: 'Early Morning' if x >= 0 and x < 5)\u001b[0m\n\u001b[1;37m                                                 ^\u001b[0m\n\u001b[1;31mSyntaxError\u001b[0m\u001b[1;31m:\u001b[0m expected 'else' after 'if' expression\n"
     ]
    }
   ],
   "source": [
    "# let's load WorkoutExport.csv as a Pandas dataframe\n",
    "import pandas as pd\n",
    "df = pd.read_csv('WorkoutExport.csv')\n",
    "df.head()\n",
    "# split date between date and time\n",
    "df['Date', 'Time'] = df['Date'].str.split(' ', expand=True)[1]\n",
    "df['YYYY/MM/DD'] = df['Date'].str.split(' ', expand=True)[0]\n",
    "df['Time'] = df['Date'].str.split(' ', expand=True)[1]\n",
    "df.head()\n",
    "\n",
    "#TODO: group Time by early morning, morning, afternoon, evening, night\n",
    "# Group by Time if time is between 12am and 5am, then it's early morning\n",
    "df['Hour'] = pd.to_datetime(df['Time'], format='%H:%M:%S').dt.hour\n",
    "df['TimeOfDay'] = df['Hour'].apply(lambda x: 'Early Morning' if x >= 0 and x < 5 else x)\n",
    "df['TimeOfDay'] = df['Hour'].apply(lambda x: 'Morning' if x >= 5 and x < 12 else x)\n",
    "df['TimeOfDay'] = df['Hour'].apply(lambda x: 'Afternoon' if x >= 12 and x < 17 else x)\n",
    "df['TimeOfDay'] = df['Hour'].apply(lambda x: 'Evening' if x >= 17 and x < 21 else x)\n",
    "df['TimeOfDay'] = df['Hour'].apply(lambda x: 'Night' if x >= 21 and x < 24 else x)\n",
    "df.head()\n",
    "#TODO: Offer insights about times of day that are most effective for each exercise\n",
    "\n",
    "\n"
   ]
  }
 ],
 "metadata": {
  "kernelspec": {
   "display_name": "Python 3.10.6 64-bit",
   "language": "python",
   "name": "python3"
  },
  "language_info": {
   "codemirror_mode": {
    "name": "ipython",
    "version": 3
   },
   "file_extension": ".py",
   "mimetype": "text/x-python",
   "name": "python",
   "nbconvert_exporter": "python",
   "pygments_lexer": "ipython3",
   "version": "3.10.6"
  },
  "orig_nbformat": 4,
  "vscode": {
   "interpreter": {
    "hash": "bb63a77499ed5899fffa71b49f0fc3f4df2c625891c3993c985b13a523c87e61"
   }
  }
 },
 "nbformat": 4,
 "nbformat_minor": 2
}
